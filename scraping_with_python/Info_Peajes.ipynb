{
 "cells": [
  {
   "cell_type": "code",
   "execution_count": 1,
   "metadata": {},
   "outputs": [
    {
     "name": "stdout",
     "output_type": "stream",
     "text": [
      "<class 'pandas.core.frame.DataFrame'>\n",
      "RangeIndex: 246123 entries, 0 to 246122\n",
      "Data columns (total 9 columns):\n",
      " #   Column              Non-Null Count   Dtype \n",
      "---  ------              --------------   ----- \n",
      " 0   idpeaje             246123 non-null  object\n",
      " 1   peaje               246123 non-null  object\n",
      " 2   categoriatarifa     246123 non-null  object\n",
      " 3   desde               246123 non-null  object\n",
      " 4   hasta               246123 non-null  object\n",
      " 5   valortarifa         246123 non-null  object\n",
      " 6   cantidadtrafico     246123 non-null  object\n",
      " 7   cantidadevasores    206910 non-null  object\n",
      " 8   cantidadexentos787  207033 non-null  object\n",
      "dtypes: object(9)\n",
      "memory usage: 16.9+ MB\n"
     ]
    }
   ],
   "source": [
    "# Reuqired Libraries\n",
    "import pandas as pd\n",
    "import requests\n",
    "\n",
    "# Url\n",
    "url = \"https://www.datos.gov.co/resource/8yi9-t44c.json\"\n",
    "\n",
    "# Parámetros iniciales\n",
    "limit = 1000  # Máximo permitido por solicitud\n",
    "offset = 0  # Empezamos desde el inicio\n",
    "all_data = []  # Lista para almacenar los datos\n",
    "\n",
    "while True:\n",
    "    # Hacer la solicitud con paginación\n",
    "    response = requests.get(url, params={\"$limit\": limit, \"$offset\": offset})\n",
    "    \n",
    "    # Verificar si la solicitud fue exitosa\n",
    "    if response.status_code != 200:\n",
    "        print(f\"Error en la solicitud: {response.status_code}\")\n",
    "        break\n",
    "    \n",
    "    # Convertir a JSON\n",
    "    data = response.json()\n",
    "    \n",
    "    # Si no hay más datos, salir del bucle\n",
    "    if not data:\n",
    "        break\n",
    "    \n",
    "    # Agregar los datos obtenidos a la lista\n",
    "    all_data.extend(data)\n",
    "    \n",
    "    # Aumentar el offset para la siguiente iteración\n",
    "    offset += limit\n",
    "\n",
    "# Convertir los datos en un DataFrame\n",
    "df = pd.DataFrame(all_data)\n",
    "\n",
    "df.info()\n",
    "\n"
   ]
  },
  {
   "cell_type": "code",
   "execution_count": 2,
   "metadata": {},
   "outputs": [],
   "source": [
    "df['desde'] = pd.to_datetime(df['desde'])\n",
    "df['desde'] = df['desde'].dt.date\n",
    "\n",
    "df['hasta'] = pd.to_datetime(df['hasta'])\n",
    "df['hasta'] = df['hasta'].dt.date\n",
    "\n",
    "df.head()\n",
    "df.to_csv(\"D:\\Descargas\\data.csv\", index=False)\n",
    "\n"
   ]
  }
 ],
 "metadata": {
  "kernelspec": {
   "display_name": "Python 3",
   "language": "python",
   "name": "python3"
  },
  "language_info": {
   "name": "python"
  }
 },
 "nbformat": 4,
 "nbformat_minor": 2
}
